{
 "cells": [
  {
   "cell_type": "code",
   "execution_count": 1,
   "metadata": {},
   "outputs": [],
   "source": [
    "#入力された 10 個の文字列を出力 \n",
    "import sys\n",
    "\n",
    "data = sys.stdin.read().strip().split()\n",
    "\n",
    "print(\" \".join(data))\n"
   ]
  },
  {
   "cell_type": "code",
   "execution_count": null,
   "metadata": {},
   "outputs": [],
   "source": [
    "#【文字列の出力】入力された 10 個の文字列を出力 (paizaランク D 相当)\n",
    "import sys\n",
    "\n",
    "data = sys.stdin.read().strip().split()\n",
    "\n",
    "for item in data:\n",
    "    print(item)\n",
    "\n",
    "\n"
   ]
  },
  {
   "cell_type": "code",
   "execution_count": 5,
   "metadata": {},
   "outputs": [
    {
     "name": "stdout",
     "output_type": "stream",
     "text": [
      "   num string\n",
      "a  3.0  paiza\n",
      "b  1.0    NaN\n",
      "c  NaN  daiza\n"
     ]
    }
   ],
   "source": [
    "import pandas as pd\n",
    "\n",
    "\n",
    "s = pd.Series({\"a\": 3, \"b\": 1})\n",
    "t = pd.Series({\"a\": \"paiza\", \"c\": \"daiza\"})\n",
    "df = pd.DataFrame({\"num\":s,\"string\":t},\n",
    "                  index=[\"c\",\"a\",\"b\",\"d\"],columns=[\"string\",\"num\",\"new\"])\n",
    "\n",
    "print(df)"
   ]
  }
 ],
 "metadata": {
  "kernelspec": {
   "display_name": "Python 3",
   "language": "python",
   "name": "python3"
  },
  "language_info": {
   "codemirror_mode": {
    "name": "ipython",
    "version": 3
   },
   "file_extension": ".py",
   "mimetype": "text/x-python",
   "name": "python",
   "nbconvert_exporter": "python",
   "pygments_lexer": "ipython3",
   "version": "3.12.4"
  }
 },
 "nbformat": 4,
 "nbformat_minor": 2
}
