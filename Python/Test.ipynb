{
 "cells": [
  {
   "cell_type": "code",
   "execution_count": null,
   "metadata": {},
   "outputs": [],
   "source": [
    "#入力された 10 個の文字列を出力 \n",
    "import sys\n",
    "\n",
    "data = sys.stdin.read().strip().split()\n",
    "\n",
    "print(\" \".join(data))\n"
   ]
  },
  {
   "cell_type": "code",
   "execution_count": null,
   "metadata": {},
   "outputs": [],
   "source": [
    "#【文字列の出力】入力された 10 個の文字列を出力 (paizaランク D 相当)\n",
    "import sys\n",
    "\n",
    "data = sys.stdin.read().strip().split()\n",
    "\n",
    "for item in data:\n",
    "    print(item)\n",
    "\n",
    "\n"
   ]
  },
  {
   "cell_type": "code",
   "execution_count": null,
   "metadata": {},
   "outputs": [],
   "source": [
    "import pandas as pd\n",
    "\n",
    "\n",
    "s = pd.Series({\"a\": 3, \"b\": 1})\n",
    "t = pd.Series({\"a\": \"paiza\", \"c\": \"daiza\"})\n",
    "df = pd.DataFrame({\"num\":s,\"string\":t},\n",
    "                  index=[\"c\",\"a\",\"b\",\"d\"],columns=[\"string\",\"num\",\"new\"])\n",
    "\n",
    "print(df)"
   ]
  },
  {
   "cell_type": "code",
   "execution_count": 1,
   "metadata": {},
   "outputs": [],
   "source": [
    "import sys\n",
    "\n",
    "data = sys.stdin.read().strip().split\n",
    "\n",
    "N = int(data[0])\n",
    "\n",
    "x = int(data[1:])\n",
    "\n",
    "max_high = 0\n",
    "max_low = 0\n",
    "\n",
    "for i in range(n):\n",
    "    low  = 1\n",
    "    high = 1\n",
    "    for j in range(i+1,n):\n",
    "        if x[j] > x[j-1]:\n",
    "            high += 1\n",
    "            if high>max_high:\n",
    "                max_high = high\n",
    "        else:\n",
    "            break\n",
    "    for j in range(i+1,n):\n",
    "        if x[j] < x[j-1]:\n",
    "            high += 1\n",
    "            if low>max_low:\n",
    "                max_low = low\n",
    "        else:\n",
    "            break\n",
    "\n",
    "print(low,high)\n",
    "\n"
   ]
  }
 ],
 "metadata": {
  "kernelspec": {
   "display_name": "Python 3",
   "language": "python",
   "name": "python3"
  },
  "language_info": {
   "codemirror_mode": {
    "name": "ipython",
    "version": 3
   },
   "file_extension": ".py",
   "mimetype": "text/x-python",
   "name": "python",
   "nbconvert_exporter": "python",
   "pygments_lexer": "ipython3",
   "version": "3.12.4"
  }
 },
 "nbformat": 4,
 "nbformat_minor": 2
}
